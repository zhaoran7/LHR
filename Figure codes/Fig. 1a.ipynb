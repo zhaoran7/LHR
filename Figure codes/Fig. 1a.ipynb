{
 "cells": [
  {
   "cell_type": "code",
   "execution_count": 1,
   "id": "105ecf23-fce1-4016-8d77-5af5f23c9366",
   "metadata": {},
   "outputs": [],
   "source": [
    "import sys\n",
    "import gwaslab as gl\n",
    "import pandas as pd"
   ]
  },
  {
   "cell_type": "code",
   "execution_count": null,
   "id": "746ab3d5-94f0-4c72-b4fc-90bf9fb78c1b",
   "metadata": {},
   "outputs": [],
   "source": [
    "height = gl.Sumstats(\"/data/GWAS/height/height.gz\",fmt=\"gwaslab\",snpid=\"SNP\",chrom=\"CHR\",pos=\"POS\",ea=\"EA\",nea=\"NEA\",sep=\"\\t\",build=\"38\",verbose=False)\n",
    "lhr = gl.Sumstats(\"/data/GWAS/height/LHR.gz\",fmt=\"gwaslab\",snpid=\"SNP\",chrom=\"CHR\",pos=\"POS\",ea=\"EA\",nea=\"NEA\",sep=\"\\t\",build=\"38\",verbose=False)\n",
    "\n",
    "height.basic_check(verbose=False)\n",
    "lhr.basic_check(verbose=False)"
   ]
  },
  {
   "cell_type": "code",
   "execution_count": 3,
   "id": "b1e488c3-7e70-4938-9e3b-3386aa66500d",
   "metadata": {},
   "outputs": [],
   "source": [
    "height.data = height.data[height.data[\"CHR\"] != 23]\n",
    "lhr.data = lhr.data[lhr.data[\"CHR\"] != 23]"
   ]
  },
  {
   "cell_type": "code",
   "execution_count": null,
   "id": "c361e6cc-4f75-417f-876d-261445a1d7eb",
   "metadata": {},
   "outputs": [],
   "source": [
    "height.plot_mqq(mode=\"m\",anno=\"GENENAME\",build=\"38\",colors=[\"#1a1a1a\",\"#999999\"],skip=3,\n",
    "             windowsizekb=100000, verbose=False, marker_size=(30,45),figargs={\"figsize\":(20,6)},fontsize =15,anno_fontsize = 13,\n",
    "             save=\"/Volumes/PS2000/Height2CVD/manuscript/res/height.m.pdf\",save_args={\"dpi\":300,\"facecolor\":\"white\"}\n",
    "             )"
   ]
  },
  {
   "cell_type": "code",
   "execution_count": null,
   "id": "4bbac2ec-c0d4-4703-9484-b222f54dc4cc",
   "metadata": {},
   "outputs": [],
   "source": [
    "lhr.plot_mqq(mode=\"m\",anno=\"GENENAME\",build=\"38\",skip=3,colors=[\"#214889\",\"#5b9bff\"],skip=3,\n",
    "             windowsizekb=100000, verbose=False, marker_size=(30,45),figargs={\"figsize\":(20,6)},fontsize =15,anno_fontsize = 13,\n",
    "             save=\"/Volumes/PS2000/Height2CVD/manuscript/res/lhr.m.pdf\",save_args={\"dpi\":300,\"facecolor\":\"white\"}\n",
    "            )"
   ]
  }
 ],
 "metadata": {
  "kernelspec": {
   "display_name": "Python 3 (ipykernel)",
   "language": "python",
   "name": "python3"
  },
  "language_info": {
   "codemirror_mode": {
    "name": "ipython",
    "version": 3
   },
   "file_extension": ".py",
   "mimetype": "text/x-python",
   "name": "python",
   "nbconvert_exporter": "python",
   "pygments_lexer": "ipython3",
   "version": "3.10.18"
  }
 },
 "nbformat": 4,
 "nbformat_minor": 5
}
