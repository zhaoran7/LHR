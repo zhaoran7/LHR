{
 "cells": [
  {
   "cell_type": "code",
   "execution_count": 1,
   "id": "a88b0ffb",
   "metadata": {},
   "outputs": [],
   "source": [
    "import gwaslab as gl\n",
    "import pandas as pd"
   ]
  },
  {
   "cell_type": "code",
   "execution_count": null,
   "id": "3411a9e5",
   "metadata": {},
   "outputs": [],
   "source": [
    "height = pd.read_csv('data/GWAS/height/height.jma.cojo', sep='\\t')\n",
    "lhr = pd.read_csv('data/GWAS/height/lhr.jma.cojo', sep='\\t')"
   ]
  },
  {
   "cell_type": "code",
   "execution_count": null,
   "id": "69717300",
   "metadata": {},
   "outputs": [],
   "source": [
    "height_sumstats = gl.Sumstats(height,snpid=\"SNP\",chrom=\"Chr\",pos=\"bp\",p=\"pJ\")\n",
    "lhr_sumstats = gl.Sumstats(lhr,snpid=\"SNP\",chrom=\"Chr\",pos=\"bp\",p=\"pJ\")"
   ]
  },
  {
   "cell_type": "code",
   "execution_count": null,
   "id": "316cf4c6",
   "metadata": {},
   "outputs": [],
   "source": [
    "height_sumstats.plot_mqq(mode=\"m\",anno=\"GENENAME\",colors=[\"#1a1a1a\",\"#999999\"],build=\"19\",\n",
    "                         windowsizekb=100000, verbose=False, bwindowsizekb=1000, anno_style=\"tight\",\n",
    "                         marker_size=(25,30),sig_level_lead=1,figargs={\"figsize\":(15,5)},\n",
    "                         save=\"/Supplementary Fig. 1.height.pdf\",save_args={\"dpi\":300,\"facecolor\":\"white\"}\n",
    "                        )"
   ]
  },
  {
   "cell_type": "code",
   "execution_count": null,
   "id": "a05de848",
   "metadata": {},
   "outputs": [],
   "source": [
    "lhr_sumstats.plot_mqq(mode=\"m\",anno=\"GENENAME\",colors=[\"#214889\",\"#5b9bff\"],build=\"19\",\n",
    "                         windowsizekb=100000, verbose=False, bwindowsizekb=1000, anno_style=\"tight\",\n",
    "                         marker_size=(25,30),sig_level_lead=1,figargs={\"figsize\":(15,5)},\n",
    "                         save=\"/Supplementary Fig. 1.lhr.pdf\",save_args={\"dpi\":300,\"facecolor\":\"white\"}\n",
    "                        )"
   ]
  },
  {
   "cell_type": "code",
   "execution_count": null,
   "id": "20d7e83c",
   "metadata": {},
   "outputs": [],
   "source": [
    "height_sumstats.plot_mqq(mode=\"b\",anno=\"GENENAME\",sig_line_color=\"red\",build=\"38\",\n",
    "                         windowsizekb=100000, verbose=False, bwindowsizekb=1000, anno_style=\"tight\",\n",
    "                         marker_size=(25,30),sig_level_lead=1,figargs={\"figsize\":(15,5)},\n",
    "                         save=\"/Supplementary Fig. 3.height.pdf\",save_args={\"dpi\":300,\"facecolor\":\"white\"}\n",
    "                        )"
   ]
  },
  {
   "cell_type": "code",
   "execution_count": null,
   "id": "347d41c5",
   "metadata": {},
   "outputs": [],
   "source": [
    "lhr_sumstats.plot_mqq(mode=\"b\",anno=\"GENENAME\",sig_line_color=\"red\",build=\"38\",\n",
    "                      windowsizekb=100000, verbose=False, bwindowsizekb=1000,anno_style=\"tight\",\n",
    "                      marker_size=(25,30),sig_level_lead=1,figargs={\"figsize\":(15,5)},\n",
    "                      save=\"/Supplementary Fig. 3.lhr.pdf\",save_args={\"dpi\":300,\"facecolor\":\"white\"}\n",
    "                     )"
   ]
  }
 ],
 "metadata": {
  "kernelspec": {
   "display_name": "Python 3 (ipykernel)",
   "language": "python",
   "name": "python3"
  },
  "language_info": {
   "codemirror_mode": {
    "name": "ipython",
    "version": 3
   },
   "file_extension": ".py",
   "mimetype": "text/x-python",
   "name": "python",
   "nbconvert_exporter": "python",
   "pygments_lexer": "ipython3",
   "version": "3.10.18"
  }
 },
 "nbformat": 4,
 "nbformat_minor": 5
}
